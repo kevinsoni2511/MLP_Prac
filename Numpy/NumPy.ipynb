{
 "cells": [
  {
   "cell_type": "code",
   "execution_count": 3,
   "id": "fb266541-6fe4-4da8-8f21-4377b114072c",
   "metadata": {},
   "outputs": [
    {
     "name": "stdout",
     "output_type": "stream",
     "text": [
      "Hello World\n"
     ]
    }
   ],
   "source": [
    "print('Hello World')"
   ]
  },
  {
   "cell_type": "code",
   "execution_count": 2,
   "id": "2c7ea045-5f6d-4e74-85dd-9e28accda52c",
   "metadata": {},
   "outputs": [],
   "source": [
    "import numpy as np\n",
    "import matplotlib.pyplot as plt\n",
    "import pandas as pd"
   ]
  },
  {
   "cell_type": "code",
   "execution_count": 20,
   "id": "9a102040-a3ee-49f0-a53c-7b9dc0df2ea1",
   "metadata": {},
   "outputs": [
    {
     "name": "stdout",
     "output_type": "stream",
     "text": [
      "array a:[1 2 3 4 5]\n",
      "ndim:1\n",
      "size:5\n",
      "Shape:(5,)\n",
      "datatype:int64\n",
      "Item Size:8 <- individual element' size\n"
     ]
    }
   ],
   "source": [
    "a= np.array([1,2,3,4,5])\n",
    "\n",
    "print(f'array a:{a}')\n",
    "print(f'ndim:{a.ndim}')\n",
    "print(f'size:{a.size}')#size of array\n",
    "print(f'Shape:{a.shape}')\n",
    "print(f\"datatype:{a.dtype}\")# datatype of value\n",
    "print(f\"Item Size:{a.itemsize} <- individual element' size\")"
   ]
  },
  {
   "cell_type": "code",
   "execution_count": 23,
   "id": "ad13394f-324f-4250-a864-1deddccfcd23",
   "metadata": {},
   "outputs": [
    {
     "name": "stdout",
     "output_type": "stream",
     "text": [
      "\n",
      "\n",
      "[[11 23 31]\n",
      " [13 24 33]]\n"
     ]
    }
   ],
   "source": [
    "multi= np.array([[1,3,1],[3,4,3]])\n",
    "multi2= np.array([[10,20,30],[10,20,30]])\n",
    "print(\"\\n\")\n",
    "print(np.add(multi,multi2))"
   ]
  },
  {
   "cell_type": "code",
   "execution_count": 21,
   "id": "9850d8c7-67e5-4b1e-b714-0e03e1a179c0",
   "metadata": {},
   "outputs": [
    {
     "name": "stdout",
     "output_type": "stream",
     "text": [
      "add:[ 2  4  6  8 10]\n"
     ]
    }
   ],
   "source": [
    "b= np.array([1,2,3,4,5])\n",
    "c=np.add(a,b)\n",
    "print(f\"add:{c}\")"
   ]
  },
  {
   "cell_type": "code",
   "execution_count": null,
   "id": "e5b855bf-8150-4af7-8c61-b0b226e4cd42",
   "metadata": {},
   "outputs": [],
   "source": []
  },
  {
   "cell_type": "code",
   "execution_count": null,
   "id": "643fb8a6-1ae1-42c0-902f-ab79adefd062",
   "metadata": {},
   "outputs": [],
   "source": []
  },
  {
   "cell_type": "code",
   "execution_count": null,
   "id": "cfc7a225-f669-4749-a538-422fa617fe7c",
   "metadata": {},
   "outputs": [],
   "source": []
  },
  {
   "cell_type": "code",
   "execution_count": null,
   "id": "78dcb9aa-93d3-4717-a68b-1de93214c5ea",
   "metadata": {},
   "outputs": [],
   "source": []
  },
  {
   "cell_type": "code",
   "execution_count": null,
   "id": "d8900687-b495-4647-ac5b-8545c8384e76",
   "metadata": {},
   "outputs": [],
   "source": []
  },
  {
   "cell_type": "code",
   "execution_count": null,
   "id": "3b03a8b4-973e-4846-86d6-77e24e4fc3d7",
   "metadata": {},
   "outputs": [],
   "source": []
  },
  {
   "cell_type": "code",
   "execution_count": null,
   "id": "0e927684-f707-4864-a635-e627422857bf",
   "metadata": {},
   "outputs": [],
   "source": []
  },
  {
   "cell_type": "code",
   "execution_count": null,
   "id": "2746facf-8519-4a18-965b-7cb50c7423ed",
   "metadata": {},
   "outputs": [],
   "source": []
  },
  {
   "cell_type": "code",
   "execution_count": null,
   "id": "3bdf0059-41bd-4e77-b3be-3d5b76c57eed",
   "metadata": {},
   "outputs": [],
   "source": []
  },
  {
   "cell_type": "code",
   "execution_count": null,
   "id": "4eb48075-0009-4957-832f-5b2095a0d83f",
   "metadata": {},
   "outputs": [],
   "source": []
  },
  {
   "cell_type": "code",
   "execution_count": null,
   "id": "be976b17-28cf-4e82-a2f4-d982d40fc11b",
   "metadata": {},
   "outputs": [],
   "source": []
  },
  {
   "cell_type": "code",
   "execution_count": null,
   "id": "44b68635-39f6-4fba-bd67-7769dfb30ad0",
   "metadata": {},
   "outputs": [],
   "source": []
  },
  {
   "cell_type": "code",
   "execution_count": null,
   "id": "622d434b-0416-4aa5-998d-e0a037061ac5",
   "metadata": {},
   "outputs": [],
   "source": []
  },
  {
   "cell_type": "code",
   "execution_count": null,
   "id": "07a970de-9ca4-4423-8652-9cf96a2a2cb4",
   "metadata": {},
   "outputs": [],
   "source": []
  },
  {
   "cell_type": "code",
   "execution_count": null,
   "id": "02091810-2454-47ac-baf2-1b4cbf9a052c",
   "metadata": {},
   "outputs": [],
   "source": []
  },
  {
   "cell_type": "code",
   "execution_count": null,
   "id": "82dc8567-694d-469a-b43b-3d59bb81562a",
   "metadata": {},
   "outputs": [],
   "source": []
  },
  {
   "cell_type": "code",
   "execution_count": null,
   "id": "5756f8a1-4d96-4bde-ac7a-6f14b4cb1b8f",
   "metadata": {},
   "outputs": [],
   "source": []
  }
 ],
 "metadata": {
  "kernelspec": {
   "display_name": "Python 3 (ipykernel)",
   "language": "python",
   "name": "python3"
  },
  "language_info": {
   "codemirror_mode": {
    "name": "ipython",
    "version": 3
   },
   "file_extension": ".py",
   "mimetype": "text/x-python",
   "name": "python",
   "nbconvert_exporter": "python",
   "pygments_lexer": "ipython3",
   "version": "3.13.1"
  }
 },
 "nbformat": 4,
 "nbformat_minor": 5
}
